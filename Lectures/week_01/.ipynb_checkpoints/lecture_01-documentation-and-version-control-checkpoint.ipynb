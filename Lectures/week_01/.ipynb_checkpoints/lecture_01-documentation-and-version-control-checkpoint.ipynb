{
 "cells": [
  {
   "cell_type": "markdown",
   "metadata": {
    "slideshow": {
     "slide_type": "slide"
    }
   },
   "source": [
    "# Foundations of Data Science \n",
    "\n",
    "### Building best practices toward reproducible research "
   ]
  },
  {
   "cell_type": "markdown",
   "metadata": {
    "slideshow": {
     "slide_type": "slide"
    }
   },
   "source": [
    "# Plan for Today\n",
    "\n",
    "- **What is Data Science?**\n",
    "- **Reproducibility** &rarr; what this means and how to build code that you and others can replicate\n",
    "- **Working from the Commandline** &rarr; why and how\n",
    "- **Version Control** &rarr; why and how"
   ]
  },
  {
   "cell_type": "markdown",
   "metadata": {
    "slideshow": {
     "slide_type": "slide"
    }
   },
   "source": [
    "# What does data science look like?"
   ]
  },
  {
   "cell_type": "markdown",
   "metadata": {
    "slideshow": {
     "slide_type": "slide"
    }
   },
   "source": [
    "## Most think this\n",
    "\n",
    "![image.gif](figures/lecture01_gapminder-animation.gif)"
   ]
  },
  {
   "cell_type": "markdown",
   "metadata": {
    "slideshow": {
     "slide_type": "slide"
    }
   },
   "source": [
    "## Or this\n",
    "<img src=\"figures/lecture01_ethnic-exposure-boko-haram.png\" width=\"600\">"
   ]
  },
  {
   "cell_type": "markdown",
   "metadata": {
    "slideshow": {
     "slide_type": "slide"
    }
   },
   "source": [
    "## Or this\n",
    "![](figures/lecture01_ROC-curve-example.png)"
   ]
  },
  {
   "cell_type": "markdown",
   "metadata": {
    "slideshow": {
     "slide_type": "slide"
    }
   },
   "source": [
    "## But in reality it's more like this...\n",
    "\n",
    "![](figures/lecture01_messy-files.png)"
   ]
  },
  {
   "cell_type": "markdown",
   "metadata": {
    "slideshow": {
     "slide_type": "slide"
    }
   },
   "source": [
    "### Data Science requires that we explore data from multiple angles in various ways \n",
    "\n",
    "### and this path is <u>rarely</u> linear\n"
   ]
  },
  {
   "cell_type": "markdown",
   "metadata": {
    "slideshow": {
     "slide_type": "slide"
    }
   },
   "source": [
    "# Reproducibility..."
   ]
  },
  {
   "cell_type": "markdown",
   "metadata": {
    "slideshow": {
     "slide_type": "subslide"
    }
   },
   "source": [
    "### is a essential feature of \"**good science**\": we should be able to follow the same path you took and come to the same conclusions.\n",
    "\n",
    "+ allows researchers to probe and explore others work\n",
    "+ test validitiy\n",
    "+ test the bounds of a result"
   ]
  },
  {
   "cell_type": "markdown",
   "metadata": {
    "slideshow": {
     "slide_type": "subslide"
    }
   },
   "source": [
    "### but it's also a **practical reality** given how projects come together.\n",
    "\n",
    "+ often juggling multiple versions of the same file\n",
    "+ collaboration can create conflicts across versions\n",
    "+ projects are picked up and put down &rarr; tracing the progression of spiderweb of files is not always easy (or possible)\n",
    "+ new people enter the fray &rarr; getting them up-to-speed wastes time and resources\n"
   ]
  },
  {
   "cell_type": "markdown",
   "metadata": {
    "slideshow": {
     "slide_type": "slide"
    }
   },
   "source": [
    "# What do data scientists in policy and social science do?"
   ]
  },
  {
   "cell_type": "markdown",
   "metadata": {
    "slideshow": {
     "slide_type": "subslide"
    }
   },
   "source": [
    "# The term \"data scientist\" is a catch-all\n",
    "\n",
    "Consider four motivations:\n",
    "- **A**. `\"I made a plot, I'm a data scientist! Data science is about using code.\"`\n",
    "- **B**. `\"With enough data, I can answer any question. It's not about expertise, it's about having access to the right information and crunching it. Data science is its own thing: it emerged from the revolution of personal computing and massive data.\"`\n",
    "- **C**. `\"No clue what 'data science' really means, but neither does anyone else! I'm an opportunist. I'll use our mutual ignorance to get a nice job.\"`\n",
    "- **D**. `\"Data science is just another way of looking at a social process. Sometimes the things we care about can't be isolated to a single cases or reproduced in an lab. World plays out at different levels of aggregation and we need to be able to understand how processes play out at those different levels\"`"
   ]
  },
  {
   "cell_type": "markdown",
   "metadata": {
    "slideshow": {
     "slide_type": "subslide"
    }
   },
   "source": [
    "### Reality is likely a mixture of all these"
   ]
  },
  {
   "cell_type": "markdown",
   "metadata": {
    "slideshow": {
     "slide_type": "slide"
    }
   },
   "source": [
    "## The task of a data scientist engaged in social science research is...\n",
    "\n",
    "## to generate <font color=\"blue\">compelling</font> answers"
   ]
  },
  {
   "cell_type": "markdown",
   "metadata": {
    "slideshow": {
     "slide_type": "subslide"
    }
   },
   "source": [
    "## But <font color=\"blue\">compelling</font> answers...\n",
    "\n",
    "- require thorough **exploration**\n",
    "- are often **discovered** while working with data\n",
    "- emerge through **collaboration**\n",
    "- require **describing** the data and results in multiple ways"
   ]
  },
  {
   "cell_type": "markdown",
   "metadata": {
    "slideshow": {
     "slide_type": "slide"
    }
   },
   "source": [
    "## The task of a data scientist engaged in social science research is... \n",
    "\n",
    "## to generate <font color=\"blue\">compelling</font>, <font color=\"red\">valid</font> answers"
   ]
  },
  {
   "cell_type": "markdown",
   "metadata": {
    "slideshow": {
     "slide_type": "subslide"
    }
   },
   "source": [
    "## But <font color=\"red\">valid</font> answers require...\n",
    "\n",
    "- **Scrutiny** &rarr; peer review\n",
    "- **Discussion** &rarr; regarding...\n",
    "    + Conceptual Definitions\n",
    "    + Measurement\n",
    "    + Scope conditions\n",
    "    + Engaging with past work\n",
    "- **Reproducibility** &rarr; others can trace your steps"
   ]
  },
  {
   "cell_type": "markdown",
   "metadata": {
    "slideshow": {
     "slide_type": "slide"
    }
   },
   "source": [
    "## The task of a data scientist engaged in social science research is... \n",
    "\n",
    "## to generate <font color=\"blue\">compelling</font>, <font color=\"red\">valid</font>, <font color=\"orange\">unbiased</font> answers"
   ]
  },
  {
   "cell_type": "markdown",
   "metadata": {
    "slideshow": {
     "slide_type": "subslide"
    }
   },
   "source": [
    "## But <font color=\"orange\">unbiased</font> answers require...\n",
    "\n",
    "- **Introspection** &rarr; how might measurements and algorithms reinforce human error\n",
    "- **Diversity** &rarr; seeing different problems requires vantage\n",
    "- **Reproducibility** &rarr; work that different points of view can chime in on and engage with."
   ]
  },
  {
   "cell_type": "markdown",
   "metadata": {
    "slideshow": {
     "slide_type": "slide"
    }
   },
   "source": [
    "## The task of a data scientist engaged in social science research is...\n",
    "\n",
    "### to <span style=\"color:#477acc\"><u>acknowledge the limitations of the design</u></span>"
   ]
  },
  {
   "cell_type": "markdown",
   "metadata": {
    "slideshow": {
     "slide_type": "subslide"
    }
   },
   "source": [
    "### What can and can't we say from these results?"
   ]
  },
  {
   "cell_type": "markdown",
   "metadata": {
    "slideshow": {
     "slide_type": "subslide"
    }
   },
   "source": [
    "### In what ways does missing data and other measurement challenges limit the kinds of inferences we can make?"
   ]
  },
  {
   "cell_type": "markdown",
   "metadata": {
    "slideshow": {
     "slide_type": "subslide"
    }
   },
   "source": [
    "### How might we improve future studies in this domain? \n",
    "+ what sort of data would we need?\n",
    "+ what sort of skills might help solve future problems?\n",
    "+ what sort of expertise might offer new insights?"
   ]
  },
  {
   "cell_type": "markdown",
   "metadata": {
    "slideshow": {
     "slide_type": "subslide"
    }
   },
   "source": [
    "### To what degree should these results inform or not inform policy?\n",
    "+ Data science and statistics has mixed history.\n",
    "    - Horrible policies have resulted from relying too heavily on poor data and theory, e.g. eugenics; Iraq war; Anti-vaccinations movement... to name a few.\n",
    "+ We need to convey the uncertainty that are baked into our results"
   ]
  },
  {
   "cell_type": "markdown",
   "metadata": {
    "slideshow": {
     "slide_type": "subslide"
    }
   },
   "source": [
    "## The task of a data scientist engaged in social science research is...\n",
    "\n",
    "### to <span style=\"color:#477acc\"><u>acknowledge the limitations of the design</u></span> \n",
    "\n",
    "### while <span style=\"color:#477acc\"><u>emphasizing</u></span> what we learn from approaching the problem in this way."
   ]
  },
  {
   "cell_type": "markdown",
   "metadata": {
    "slideshow": {
     "slide_type": "slide"
    }
   },
   "source": [
    "# Generating Reproducible Work"
   ]
  },
  {
   "cell_type": "markdown",
   "metadata": {
    "slideshow": {
     "slide_type": "subslide"
    }
   },
   "source": [
    "### 1. Readable\n",
    "### 2. Portable\n",
    "### 3. Well-Named\n",
    "### 4. Repeatable\n",
    "### 5. Version Control"
   ]
  },
  {
   "cell_type": "markdown",
   "metadata": {
    "slideshow": {
     "slide_type": "slide"
    }
   },
   "source": [
    "# Readable"
   ]
  },
  {
   "cell_type": "markdown",
   "metadata": {
    "slideshow": {
     "slide_type": "subslide"
    }
   },
   "source": [
    "- **Well Commented Code and Functions**\n",
    "\n",
    "```python\n",
    "x = np.linspace(1,10,100,float)\n",
    "y = 1 + 2*x + np.random.normal(0,1,100)\n",
    "plt.scatter(x,y)\n",
    "```\n",
    "\n",
    "vs.\n",
    "\n",
    "\n",
    "```python\n",
    "# Monte Carlo Simulation of the Linear Model\n",
    "N = 100 # Simulated sample size\n",
    "x = np.linspace(start=1,stop=10,num=N,dtype=float) # generate exogeneous variable\n",
    "e = np.random.normal(loc=0,scale=1,size=N) # simulate error\n",
    "y = 1 + 2*x + e # generate y as a function of x and error\n",
    "plt.scatter(x,y) # plot values\n",
    "```"
   ]
  },
  {
   "cell_type": "markdown",
   "metadata": {
    "slideshow": {
     "slide_type": "subslide"
    }
   },
   "source": [
    "- **Well Commented Code and Functions**\n",
    "- **Well-Named Objects**\n",
    "\n",
    "```python\n",
    "# Monte Carlo Simulation of the Linear Model\n",
    "N = 100 # Simulated sample size\n",
    "x = np.linspace(start=1,stop=10,num=N,dtype=float) # generate exogeneous variable\n",
    "e = np.random.normal(loc=0,scale=1,size=N) # simulate error\n",
    "y = 1 + 2*x + e # generate y as a function of x and error\n",
    "plt.scatter(x,y) # plot values\n",
    "```\n",
    "\n",
    "vs.\n",
    "\n",
    "```python\n",
    "# Monte Carlo Simulation of the Linear Model\n",
    "sample_size = 100 # Simulated sample size\n",
    "indep_var = np.linspace(start=1,stop=10,num=sample_size,dtype=float) # generate exogeneous variable\n",
    "error = np.random.normal(loc=0,scale=1,size=sample_size) # simulate error\n",
    "dep_var = 1 + 2*indep_var + error # generate dependent var as a function of independent var and error\n",
    "plt.scatter(indep_var,dep_var) # plot values\n",
    "```\n"
   ]
  },
  {
   "cell_type": "markdown",
   "metadata": {
    "slideshow": {
     "slide_type": "subslide"
    }
   },
   "source": [
    "- **Well Commented Code and Functions**\n",
    "- **Well-Named Objects**\n",
    "- **Leverage Spacing**\n",
    "\n",
    "```python\n",
    "# Monte Carlo Simulation of the Linear Model\n",
    "sample_size = 100 # Simulated sample size\n",
    "indep_var = np.linspace(start=1,stop=10,num=sample_size,dtype=float) # generate exogeneous variable\n",
    "error = np.random.normal(loc=0,scale=1,size=sample_size) # simulate error\n",
    "dep_var = 1 + 2*indep_var + error # generate dependent var as a function of independent var and error\n",
    "plt.scatter(indep_var,dep_var) # plot values\n",
    "```\n",
    "vs.\n",
    "\n",
    "```python\n",
    "# Monte Carlo Simulation of the Linear Model\n",
    "\n",
    "# Simulated sample size\n",
    "sample_size = 100 \n",
    "\n",
    "# generate exogeneous variable\n",
    "indep_var = np.linspace(start=1,stop=10,num=sample_size,dtype=float) \n",
    "\n",
    "# simulate error\n",
    "error = np.random.normal(loc=0,scale=1,size=sample_size) \n",
    "\n",
    "# Generate dependent var as a function of independent var and error\n",
    "dep_var = 1 + 2*indep_var + error \n",
    "\n",
    "# Plot Relationship\n",
    "plt.scatter(indep_var,dep_var) # plot values\n",
    "```\n"
   ]
  },
  {
   "cell_type": "markdown",
   "metadata": {
    "slideshow": {
     "slide_type": "subslide"
    }
   },
   "source": [
    "- **Well Commented Code and Functions**\n",
    "- **Well-Named Objects**\n",
    "- **Leverage Spacing**\n",
    "\n",
    "**To a degree, Code&mdash;like writing&mdash;should be more Hemmingway than Faulkner.**:\n",
    "\n",
    "- concise\n",
    "- clear\n",
    "- readable without running"
   ]
  },
  {
   "cell_type": "markdown",
   "metadata": {
    "slideshow": {
     "slide_type": "slide"
    }
   },
   "source": [
    "# Portable"
   ]
  },
  {
   "cell_type": "markdown",
   "metadata": {
    "slideshow": {
     "slide_type": "subslide"
    }
   },
   "source": [
    "- Project can easily **travel across computers**\n",
    "    - e.g. R Project (`.rproj`) and python's Virtual Environments (`venv`)"
   ]
  },
  {
   "cell_type": "markdown",
   "metadata": {
    "slideshow": {
     "slide_type": "subslide"
    }
   },
   "source": [
    "- Project can easily **travel across computers**\n",
    "    - e.g. `R` Project (`.rproj`) and python's Virtual Environments (`venv`)\n",
    "- Scripts avoid **\"machine\" specific designations**\n",
    "    + Avoid **specific file paths**: \n",
    "    \n",
    "`/Users/my-user-name/data-projects/my-project`\n",
    " \n",
    " vs.\n",
    "\n",
    "`~/data-projects/my-project`"
   ]
  },
  {
   "cell_type": "markdown",
   "metadata": {
    "slideshow": {
     "slide_type": "subslide"
    }
   },
   "source": [
    "- Project can easily **travel across computers**\n",
    "- Scripts avoid **\"machine\" specific designations**\n",
    "    + Avoid **specific file paths**: \n",
    "    + **Retain software and packages versions**, so when the project is spun up months or years later, everything runs (even though python or R have long since moved on).\n",
    "        - e.g. `R`'s `packrat` package\n",
    "        - python's Virtual Environments (`venv`)... retains module installations and its own `pip` download"
   ]
  },
  {
   "cell_type": "markdown",
   "metadata": {
    "slideshow": {
     "slide_type": "subslide"
    }
   },
   "source": [
    "- Project can easily **travel across computers**\n",
    "- Scripts avoid **\"machine\" specific designations**\n",
    "- **Use text files**\n",
    "    + Not software dependent (e.g. .docx, .ia)\n",
    "    + Can open on any system\n",
    "    + Can be easily searched via the commandline\n",
    "    + Easy to track changes via version control"
   ]
  },
  {
   "cell_type": "markdown",
   "metadata": {
    "slideshow": {
     "slide_type": "slide"
    }
   },
   "source": [
    "# Well-named"
   ]
  },
  {
   "cell_type": "markdown",
   "metadata": {
    "slideshow": {
     "slide_type": "subslide"
    }
   },
   "source": [
    "- **No spaces!**\n",
    "    + A space between designations can many things\n",
    "    + spaces are ambiguous for the computer\n",
    "    + will become immediately clear once we move into the commandline\n",
    " \n",
    "```bash\n",
    "data analysis 2.py\n",
    "histogram of age distribution.pdf\n",
    "```\n",
    "\n",
    "vs\n",
    "\n",
    "```bash\n",
    "data-analysis-2.py\n",
    "histogram-of-age-distribution.pdf\n",
    "```"
   ]
  },
  {
   "cell_type": "markdown",
   "metadata": {
    "slideshow": {
     "slide_type": "subslide"
    }
   },
   "source": [
    "- **No spaces!**\n",
    "- **Names that state the purpose of the file** (no matter how long).\n",
    "\n",
    "```bash\n",
    "data-analysis-2.py\n",
    "histogram-of-age-distribution.pdf\n",
    "```\n",
    "\n",
    "vs\n",
    "\n",
    "```bash\n",
    "Analysis01_wrangling-census-data-for-visualization_v2.py\n",
    "Figure02_histogram_age-distribution-of-sample-respondents.pdf\n",
    "```"
   ]
  },
  {
   "cell_type": "markdown",
   "metadata": {
    "slideshow": {
     "slide_type": "subslide"
    }
   },
   "source": [
    "- **No spaces!**\n",
    "- **Names that state the purpose of the file** (no matter how long).\n",
    "- Maintain **designated folders** for different aspects of the project.\n",
    "\n",
    "e.g.\n",
    "\n",
    "```bash\n",
    "data-project\n",
    "├── raw-data/        # Where our input data lives\n",
    "├── output-data/     # Where our manipulated data lives\n",
    "├── py/              # Where our Python functions live\n",
    "├── R/               # Where our R functions live\n",
    "├── figures/         # Where our generated figures live\n",
    "├── reports/         # Where our text-based (.tex/.md/.txt) live\n",
    "└── analysis/        # Where our analyses live\n",
    "```"
   ]
  },
  {
   "cell_type": "markdown",
   "metadata": {
    "slideshow": {
     "slide_type": "slide"
    }
   },
   "source": [
    "# Repeatable"
   ]
  },
  {
   "cell_type": "markdown",
   "metadata": {
    "slideshow": {
     "slide_type": "subslide"
    }
   },
   "source": [
    "- Every step of the project can be expressed as code\n",
    "- Automate what you can\n",
    "- Use functions to repeat common tasks\n",
    "- Clearly state all depdendencies (i.e. packages/modules) at the top of every script"
   ]
  },
  {
   "cell_type": "markdown",
   "metadata": {
    "slideshow": {
     "slide_type": "slide"
    }
   },
   "source": [
    "# Version Control"
   ]
  },
  {
   "cell_type": "markdown",
   "metadata": {
    "slideshow": {
     "slide_type": "subslide"
    }
   },
   "source": [
    "- Retain a **record of all changes** made throughout the project's lifespan\n",
    "- Easily handle **collaboration**: \n",
    "    + track who did what\n",
    "    + uniform method dealing with conflicting changes\n",
    "- Provides a **room for experimentation** and non-linear exploration\n",
    "- No more **version file names**!\n",
    "\n",
    "More on this later..."
   ]
  },
  {
   "cell_type": "markdown",
   "metadata": {
    "slideshow": {
     "slide_type": "slide"
    }
   },
   "source": [
    "# Working from the Command Line\n"
   ]
  },
  {
   "cell_type": "markdown",
   "metadata": {
    "slideshow": {
     "slide_type": "subslide"
    }
   },
   "source": [
    "### The commandline offers an easy way in which to navigate the computer. \n",
    "\n",
    "From it, we can:\n",
    "\n",
    "- create, move, edit files\n",
    "- install new functionality onto our computer\n",
    "- run scripts in `R` or `python`\n",
    "\n",
    "And much much more...\n",
    "\n"
   ]
  },
  {
   "cell_type": "markdown",
   "metadata": {
    "slideshow": {
     "slide_type": "subslide"
    }
   },
   "source": [
    "### Why use the commandline?\n",
    "\n",
    "- **contextualizes** where things are on the computer (as the computer does)\n",
    "    + We'll call to files from python and R using the file `path`.\n",
    "- **reproducible** \n",
    "    + we can retain all our traditionally \"point and click\" steps as a `.sh` script. \n",
    "    + \"point and click\" is not reproducible as each step is not recorded and thus cannot be retraced.\n",
    "- **automated**\n",
    "    + batch run scripts\n",
    "    + have multiple processes running in the background\n",
    "- **remote into virtual machines**, such as AWS or Azure"
   ]
  },
  {
   "cell_type": "markdown",
   "metadata": {
    "slideshow": {
     "slide_type": "slide"
    }
   },
   "source": [
    "### Let's take a quick tour using the commandline by building a simple project "
   ]
  },
  {
   "cell_type": "markdown",
   "metadata": {
    "slideshow": {
     "slide_type": "subslide"
    }
   },
   "source": [
    "### Where are we on the computer?\n",
    "\n",
    "```bash\n",
    "PWD\n",
    "```\n",
    "```\n",
    "/Users/ericdunford/\n",
    "```"
   ]
  },
  {
   "cell_type": "markdown",
   "metadata": {
    "slideshow": {
     "slide_type": "subslide"
    }
   },
   "source": [
    "### Move to the Desktop\n",
    "\n",
    "```bash\n",
    "cd ~/Desktop\n",
    "PWD\n",
    "```\n",
    "```\n",
    "/Users/ericdunford/Desktop\n",
    "```"
   ]
  },
  {
   "cell_type": "markdown",
   "metadata": {
    "slideshow": {
     "slide_type": "subslide"
    }
   },
   "source": [
    "### What files are in this directory?\n",
    "\n",
    "```bash\n",
    "ls\n",
    "```\n",
    "```\n",
    "old-files\n",
    "tmp-files\n",
    "notes\n",
    "test-script.py\n",
    "```\n",
    "\n",
    "Looks like there are **three directories** and **one python file**."
   ]
  },
  {
   "cell_type": "markdown",
   "metadata": {
    "slideshow": {
     "slide_type": "subslide"
    }
   },
   "source": [
    "### Let's find out more information\n",
    "\n",
    "Most all bash commands have arguments that change the nature of the output.\n",
    "\n",
    "```bash\n",
    "ls -a \n",
    "```\n",
    "```\n",
    ".\n",
    ".DS_Store\n",
    ".ipynb_checkpoints\n",
    "old-files\n",
    "tmp-files\n",
    "notes\n",
    "test-script.py\n",
    "```\n",
    "\n",
    "`-a` lists 'all' files. The files with `.` are \"hidden\" in that they don't appear on the normal point and click interface."
   ]
  },
  {
   "cell_type": "markdown",
   "metadata": {
    "slideshow": {
     "slide_type": "subslide"
    }
   },
   "source": [
    "### Let's find out more information\n",
    "\n",
    "Most all bash commands have arguments that change the nature of the output.\n",
    "\n",
    "```bash\n",
    "ls -l\n",
    "```\n",
    "```\n",
    "total 0\n",
    "drwxr-xr-x  6 ericdunford  staff  192 Aug 28 18:01 old-files\n",
    "drwxr-xr-x  9 ericdunford  staff  288 Aug 30 14:54 test-env\n",
    "drwxr-xr-x  2 ericdunford  staff  133 Aug 30 14:54 notes\n",
    "-rw-r--r--  1 ericdunford  staff   10 Sep  1 16:28 test-script.py\n",
    "```\n",
    "\n",
    "`-l` offers a more comprehensive list of the available files."
   ]
  },
  {
   "cell_type": "markdown",
   "metadata": {
    "slideshow": {
     "slide_type": "subslide"
    }
   },
   "source": [
    "### Make a directory for our project \n",
    "\n",
    "```bash\n",
    "mkdir my-project\n",
    "ls\n",
    "```\n",
    "```\n",
    "old-files\n",
    "tmp-files\n",
    "notes\n",
    "test-script.py\n",
    "my-project\n",
    "```"
   ]
  },
  {
   "cell_type": "markdown",
   "metadata": {
    "slideshow": {
     "slide_type": "subslide"
    }
   },
   "source": [
    "### Move into the project and create the following folders\n",
    "\n",
    "- `raw-data/`\n",
    "- `output-data/`\n",
    "- `py`\n",
    "- `notes/`\n",
    "\n",
    "```bash\n",
    "cd my-project\n",
    "mkdir raw-data output-data py notes  # multiple files can be specified at once\n",
    "ls\n",
    "```\n",
    "```\n",
    "notes       output-data py          raw-data\n",
    "```"
   ]
  },
  {
   "cell_type": "markdown",
   "metadata": {
    "slideshow": {
     "slide_type": "subslide"
    }
   },
   "source": [
    "### Let's create a new note in the `notes` directory\n",
    "\n",
    "```bash\n",
    "touch notes/new-note.txt   # 'touch' will create a file on the fly\n",
    "ls notes/                  # we list specific directories by pointing to them\n",
    "```\n",
    "```\n",
    "new-note.txt\n",
    "```"
   ]
  },
  {
   "cell_type": "markdown",
   "metadata": {
    "slideshow": {
     "slide_type": "subslide"
    }
   },
   "source": [
    "### We can also populate files directly by funneling (`>`) the output\n",
    "\n",
    "```bash\n",
    "echo This is a new file! > notes/new-note-2.txt\n",
    "ls notes/\n",
    "```\n",
    "```\n",
    "new-note.txt\n",
    "new-note-2.txt\n",
    "```"
   ]
  },
  {
   "cell_type": "markdown",
   "metadata": {
    "slideshow": {
     "slide_type": "subslide"
    }
   },
   "source": [
    "### Print the file content in `new-note-2.txt`\n",
    "\n",
    "```bash\n",
    "cat notes/new-note-2.txt\n",
    "```\n",
    "```\n",
    "This is a new file!\n",
    "```"
   ]
  },
  {
   "cell_type": "markdown",
   "metadata": {
    "slideshow": {
     "slide_type": "subslide"
    }
   },
   "source": [
    "### Open files\n",
    "\n",
    "```bash\n",
    "open notes/new-note-2.txt\n",
    "```"
   ]
  },
  {
   "cell_type": "markdown",
   "metadata": {
    "slideshow": {
     "slide_type": "subslide"
    }
   },
   "source": [
    "### Open files with a specific application \n",
    "\n",
    "```bash\n",
    "open notes/new-note-2.txt -a Sublime\\ Text \n",
    "```"
   ]
  },
  {
   "cell_type": "markdown",
   "metadata": {
    "slideshow": {
     "slide_type": "subslide"
    }
   },
   "source": [
    "### Create a python script and then run it\n",
    "\n",
    "```bash\n",
    "echo 'print(\"Running a really important program...\")' > py/my-script.py\n",
    "python3 py/my-script.py\n",
    "```\n",
    "```\n",
    "Running a really important program...\n",
    "```"
   ]
  },
  {
   "cell_type": "markdown",
   "metadata": {
    "slideshow": {
     "slide_type": "slide"
    }
   },
   "source": [
    "## Moving around and Managing Files"
   ]
  },
  {
   "cell_type": "markdown",
   "metadata": {
    "slideshow": {
     "slide_type": "subslide"
    }
   },
   "source": [
    "### Delete files\n",
    "\n",
    "```bash\n",
    "rm notes/new-note.txt\n",
    "ls notes/\n",
    "```\n",
    "```\n",
    "new-note-2.txt\n",
    "```\n",
    "> **Warning!** Once you `rm` a file, it is gone. "
   ]
  },
  {
   "cell_type": "markdown",
   "metadata": {
    "slideshow": {
     "slide_type": "subslide"
    }
   },
   "source": [
    "### Delete directories\n",
    "\n",
    "```bash\n",
    "ls \n",
    "```\n",
    "```\n",
    "notes raw-data output-data py\n",
    "```\n",
    "```bash\n",
    "rmdir raw-data\n",
    "ls \n",
    "```\n",
    "```\n",
    "notes output-data py\n",
    "```"
   ]
  },
  {
   "cell_type": "markdown",
   "metadata": {
    "slideshow": {
     "slide_type": "subslide"
    }
   },
   "source": [
    "### Delete directories with files in them\n",
    "\n",
    "```bash\n",
    "rmdir notes\n",
    "```\n",
    "```\n",
    "rmdir: notes: Directory not empty\n",
    "```\n",
    "```bash\n",
    "rm -rf notes\n",
    "ls\n",
    "```\n",
    "```\n",
    "output-data py\n",
    "```\n",
    "> **Warning!** Once again, once it's gone it's gone."
   ]
  },
  {
   "cell_type": "markdown",
   "metadata": {
    "slideshow": {
     "slide_type": "subslide"
    }
   },
   "source": [
    "### Moving files\n",
    "\n",
    "```bash\n",
    "mv notes ~/Desktop\n",
    "ls ~/Desktop\n",
    "```\n",
    "```\n",
    "old-files\n",
    "tmp-files\n",
    "notes\n",
    "test-script.py\n",
    "my-project\n",
    "notes\n",
    "```"
   ]
  },
  {
   "cell_type": "markdown",
   "metadata": {
    "slideshow": {
     "slide_type": "subslide"
    }
   },
   "source": [
    "### Navigating\n",
    "\n",
    "```bash\n",
    "cd ..     # go back to the last directory\n",
    "cd        # go to the top directory\n",
    "cd -      # go back to where you once where\n",
    "cd ~/Desktop/my-project/raw-data/file-1/ # go to a specific location\n",
    "```"
   ]
  },
  {
   "cell_type": "markdown",
   "metadata": {
    "slideshow": {
     "slide_type": "subslide"
    }
   },
   "source": [
    "### Why spaces in file names are a problem\n",
    "\n",
    "\n",
    "```bash\n",
    "open this\\ file\\ of\\ mine.txt\n",
    "```\n",
    "vs\n",
    "```bash\n",
    "open this-file-of-mine.txt\n",
    "```\n",
    "\n",
    "More typing, hard to wield when calling to files from `R` or `python`"
   ]
  },
  {
   "cell_type": "markdown",
   "metadata": {
    "slideshow": {
     "slide_type": "slide"
    }
   },
   "source": [
    "## Package managers\n",
    "\n",
    "Assist in downloading additional functionality onto your system.\n",
    "\n",
    "[homebrew](https://brew.sh/) (Mac/Linux) \n",
    "```bash\n",
    "brew install trash\n",
    "```\n",
    "and\n",
    "\n",
    "[chocolatey](https://chocolatey.org/) (Windows) \n",
    "```bash\n",
    "choco install trash\n",
    "```\n"
   ]
  },
  {
   "cell_type": "markdown",
   "metadata": {
    "slideshow": {
     "slide_type": "slide"
    }
   },
   "source": [
    "## Installing python models via `pip3`\n",
    "\n",
    "Make sure that you have a current version of `python3` on your system. After version 3.4, `pip` comes with the installation of python. \n",
    "```bash\n",
    "python3 --version\n",
    "```\n",
    "```\n",
    "Python 3.7.0\n",
    "```\n",
    "```bash\n",
    "pip3 --version\n",
    "```\n",
    "```\n",
    "pip 18.0 from /Library/Frameworks/Python.framework/Versions/3.7/lib/python3.7/site-packages/pip (python 3.7)\n",
    "```\n",
    "\n",
    "Install models as follows: `pip3 install [package name]`\n",
    "\n",
    "e.g.\n",
    "```bash\n",
    "pip3 install numpy\n",
    "```"
   ]
  },
  {
   "cell_type": "markdown",
   "metadata": {
    "slideshow": {
     "slide_type": "slide"
    }
   },
   "source": [
    "## Asking for help\n",
    "\n",
    "```bash\n",
    "grep -h\n",
    "```\n",
    "```\n",
    "usage: grep [-abcDEFGHhIiJLlmnOoqRSsUVvwxZ] [-A num] [-B num] [-C[num]]\n",
    "\t[-e pattern] [-f file] [--binary-files=value] [--color=when]\n",
    "\t[--context[=num]] [--directories=action] [--label] [--line-buffered]\n",
    "\t[--null] [pattern] [file ...]\n",
    "```"
   ]
  },
  {
   "cell_type": "markdown",
   "metadata": {
    "slideshow": {
     "slide_type": "subslide"
    }
   },
   "source": [
    "## Asking for help\n",
    "\n",
    "`man` short for \"manual\" \n",
    "```bash\n",
    "man grep\n",
    "```\n",
    "\n",
    "Prints off the entire manual as pages, by which we navigate as follows:\n",
    "\n",
    "- `:n` =  next page,\n",
    "- `:p` = past page, \n",
    "- `:q` = quit "
   ]
  },
  {
   "cell_type": "markdown",
   "metadata": {
    "slideshow": {
     "slide_type": "slide"
    }
   },
   "source": [
    "### Cozying up to the commandline\n",
    "\n",
    "- Can be a bit awkward at first.\n",
    "- Will ease the process of switching between languages. \n",
    "- Necessary for version control \n",
    "    + (though there are point-and-click interfaces, such as the github port build into R studio)\n",
    "- Will use throughout the semester, so you'll have plenty of time learn it.\n",
    "- More on the command line next time!\n",
    "\n",
    "<br><br>\n",
    "#### Remember: the goal is to more away from any process that is 'point and click' (keep each step reproducible)\n",
    "\n"
   ]
  },
  {
   "cell_type": "markdown",
   "metadata": {
    "slideshow": {
     "slide_type": "slide"
    }
   },
   "source": [
    "# Using Git "
   ]
  },
  {
   "cell_type": "markdown",
   "metadata": {
    "slideshow": {
     "slide_type": "slide"
    }
   },
   "source": [
    "## What is version control?"
   ]
  },
  {
   "cell_type": "markdown",
   "metadata": {
    "slideshow": {
     "slide_type": "subslide"
    }
   },
   "source": [
    "### Version control is a system that records changes to a file or set of files over time so that you can recall specific versions later."
   ]
  },
  {
   "cell_type": "markdown",
   "metadata": {
    "slideshow": {
     "slide_type": "subslide"
    }
   },
   "source": [
    "### For many, \"version-control\" means something like this...\n",
    "\n",
    "```\n",
    "my-project\n",
    "├── my-paper_v5.2.docx\n",
    "├── Drafts/\n",
    "    ├── my-paper_v5.1.docx\n",
    "    ├── my-paper_v5.docx\n",
    "    ├── my-paper_v4.7.docx\n",
    "    ├── my-paper_v4.6.docx\n",
    "    ├── my-paper_v4.5.docx\n",
    "    ...\n",
    "```\n"
   ]
  },
  {
   "cell_type": "markdown",
   "metadata": {
    "slideshow": {
     "slide_type": "subslide"
    }
   },
   "source": [
    "### Version control in this manner is error prone and complicates collaboration\n",
    "\n",
    "```\n",
    "my-project\n",
    "├── my-paper_v5.2.docx\n",
    "├── Drafts/\n",
    "    ├── my-paper_v5.emg-edits.docx\n",
    "    ├── my-paper_v5.dfb-edits-v2.docx\n",
    "    ├── my-paper_v5.dfb-edits-v1.docx\n",
    "    ├── my-paper_v5.1.docx\n",
    "    ├── my-paper_v4.6.emg-final-edits.docx\n",
    "    ...\n",
    "```\n",
    "\n",
    "#### What's the operative version?\n",
    "\n",
    "#### Where's that good description of var1 that we scrapped? We want it back."
   ]
  },
  {
   "cell_type": "markdown",
   "metadata": {
    "slideshow": {
     "slide_type": "slide"
    }
   },
   "source": [
    "## What is Git?\n",
    "\n",
    "- `git` is one of many possible version control protocols (others include mercurial, bazaar, darc, ...) \n",
    "- It is useful because it saves snapshots rather than just tracking differences. Treats **data as a stream of snapshots**.\n",
    "- Changes are made **locally** and then can be easily incorporated and merged with the work of others. No network dependencies required.\n",
    "- it’s impossible to change the contents of any file or directory without Git knowing about it."
   ]
  },
  {
   "cell_type": "markdown",
   "metadata": {
    "slideshow": {
     "slide_type": "subslide"
    }
   },
   "source": [
    "## How Git works...\n",
    "\n",
    "Three states:\n",
    "\n",
    "- **Committed** &rarr; data is safely stored in your local database.\n",
    "- **Modified** &rarr; changed the file but have not committed it to the database yet.\n",
    "- **Staged** &rarr; marked a modified file in its current version to go into the next commit snapshot."
   ]
  },
  {
   "cell_type": "markdown",
   "metadata": {
    "slideshow": {
     "slide_type": "subslide"
    }
   },
   "source": [
    "\n",
    "![](figures/lecture01_git-process-image.png)"
   ]
  },
  {
   "cell_type": "markdown",
   "metadata": {
    "slideshow": {
     "slide_type": "slide"
    }
   },
   "source": [
    "# Git Basics"
   ]
  },
  {
   "cell_type": "markdown",
   "metadata": {
    "slideshow": {
     "slide_type": "subslide"
    }
   },
   "source": [
    "## Initializing a Repository\n",
    "\n",
    "```bash\n",
    "mkdir my-project\n",
    "cd my-project \n",
    "git init\n",
    "```\n",
    "\n",
    "or just...\n",
    "\n",
    "```bash\n",
    "git init my-project\n",
    "```"
   ]
  },
  {
   "cell_type": "markdown",
   "metadata": {
    "slideshow": {
     "slide_type": "subslide"
    }
   },
   "source": [
    "## Checking the Status of Things\n",
    "\n",
    "Assuming we're in the `my-project` directory...\n",
    "\n",
    "```bash\n",
    "git status\n",
    "```\n",
    "\n",
    "```\n",
    "On branch master\n",
    "\n",
    "No commits yet\n",
    "\n",
    "nothing to commit (create/copy files and use \"git add\" to track)\n",
    "```"
   ]
  },
  {
   "cell_type": "markdown",
   "metadata": {
    "slideshow": {
     "slide_type": "subslide"
    }
   },
   "source": [
    "## Staging Files\n",
    "\n",
    "First, let's generate a file and check the status.\n",
    "```bash\n",
    "echo 'This is a repository that shows some cool code.' > README.md\n",
    "git status\n",
    "```\n",
    "\n",
    "```git\n",
    "On branch master\n",
    "\n",
    "No commits yet\n",
    "\n",
    "Untracked files:\n",
    "  (use \"git add <file>...\" to include in what will be committed)\n",
    "\n",
    "\tREADME.md\n",
    "\n",
    "nothing added to commit but untracked files present (use \"git add\" to track)\n",
    "```"
   ]
  },
  {
   "cell_type": "markdown",
   "metadata": {
    "slideshow": {
     "slide_type": "subslide"
    }
   },
   "source": [
    "## Staging Files\n",
    "\n",
    "Let's stage it. \n",
    "```bash\n",
    "git add README.md\n",
    "git status\n",
    "```\n",
    "\n",
    "```git\n",
    "On branch master\n",
    "\n",
    "No commits yet\n",
    "\n",
    "Changes to be committed:\n",
    "  (use \"git rm --cached <file>...\" to unstage)\n",
    "\n",
    "\tnew file:   README.md\n",
    "```"
   ]
  },
  {
   "cell_type": "markdown",
   "metadata": {
    "slideshow": {
     "slide_type": "subslide"
    }
   },
   "source": [
    "## Committing Files\n",
    "\n",
    "Let's now commit the file.\n",
    "```bash\n",
    "git commit -m \"This is my first commit\"\n",
    "```\n",
    "\n",
    "```git\n",
    "master (root-commit) 5680e24] This is my first commit\n",
    " 1 file changed, 1 insertion(+)\n",
    " create mode 100644 README.md\n",
    "```\n",
    "```bash\n",
    "git status\n",
    "```\n",
    "```\n",
    "On branch master\n",
    "nothing to commit, working tree clean\n",
    "```"
   ]
  },
  {
   "cell_type": "markdown",
   "metadata": {
    "slideshow": {
     "slide_type": "subslide"
    }
   },
   "source": [
    "## Reviewing Commits\n",
    "\n",
    "Let's look at our history...\n",
    "```bash\n",
    "git log\n",
    "```\n",
    "\n",
    "```git\n",
    "commit 5680e24ccf49d7796f0c3a59a13d50e1e1d991ed (HEAD -> master)\n",
    "Author: edunford <eric.dunford@georgetown.edu>\n",
    "Date:   Tue Sep 4 15:25:54 2018 -0400\n",
    "\n",
    "    This is my first commit\n",
    "```\n",
    "\n",
    "What's all going on here?"
   ]
  },
  {
   "cell_type": "markdown",
   "metadata": {
    "slideshow": {
     "slide_type": "subslide"
    }
   },
   "source": [
    "## Reviewing Commits\n",
    "\n",
    "Printing logs in viable formats...\n",
    "\n",
    "```bash\n",
    "git log --oneline\n",
    "```\n",
    "\n",
    "```git\n",
    "5680e24 (HEAD -> master) This is my first commit\n",
    "```"
   ]
  },
  {
   "cell_type": "markdown",
   "metadata": {
    "slideshow": {
     "slide_type": "subslide"
    }
   },
   "source": [
    "## Continue working...\n",
    "\n",
    "```bash\n",
    "mkdir raw-data output-data py analysis\n",
    "git status\n",
    "```\n",
    "\n",
    "```\n",
    "On branch master\n",
    "nothing to commit, working tree clean\n",
    "```\n",
    "\n",
    "What's going on here?\n"
   ]
  },
  {
   "cell_type": "markdown",
   "metadata": {
    "slideshow": {
     "slide_type": "subslide"
    }
   },
   "source": [
    "## Continue working...\n",
    "\n",
    "```bash\n",
    "touch raw-data/some-file1.txt output-data/manip-file.txt py/file2.py analysis/file3.py\n",
    "git status\n",
    "```\n",
    "\n",
    "```\n",
    "On branch master\n",
    "Untracked files:\n",
    "  (use \"git add <file>...\" to include in what will be committed)\n",
    "\n",
    "\tanalysis/\n",
    "\toutput-data/\n",
    "\tpy/\n",
    "\traw-data/\n",
    "\n",
    "nothing added to commit but untracked files present (use \"git add\" to track)\n",
    "```"
   ]
  },
  {
   "cell_type": "markdown",
   "metadata": {
    "slideshow": {
     "slide_type": "subslide"
    }
   },
   "source": [
    "## Continue working...\n",
    "\n",
    "```bash\n",
    "git add .     # dot means just stage all unstaged files.\n",
    "git commit -m \"Added some files\"\n",
    "git log --oneline\n",
    "```\n",
    "\n",
    "```\n",
    "4831662 (HEAD -> master) Added some files\n",
    "5680e24 This is my first commit\n",
    "```"
   ]
  },
  {
   "cell_type": "markdown",
   "metadata": {
    "slideshow": {
     "slide_type": "subslide"
    }
   },
   "source": [
    "## Fast Forward a Few Steps in the project...\n",
    "\n",
    "```bash\n",
    "git log --oneline\n",
    "```\n",
    "\n",
    "```\n",
    "333fb20 (HEAD -> master) Started analysis\n",
    "ede382e Added data entries to raw-data\n",
    "e1c8db1 Added module to .py file\n",
    "4831662 Added some files\n",
    "5680e24 This is my first commit\n",
    "```"
   ]
  },
  {
   "cell_type": "markdown",
   "metadata": {
    "slideshow": {
     "slide_type": "slide"
    }
   },
   "source": [
    "## Connecting to Remote Git Repositories\n"
   ]
  },
  {
   "cell_type": "markdown",
   "metadata": {
    "slideshow": {
     "slide_type": "subslide"
    }
   },
   "source": [
    "## What is Github?\n",
    "\n",
    "- single largest host for Git repositories (i.e. the `.git` that the `git init` produces)\n",
    "- can `push` our changes to the repository to upload our changes to the remote.\n",
    "- Recall that a git repository is an **entire snapshot** of a project and all its data, so the fact that we can upload and download files, work on them locally, and then incorporate those changes back into the main work flow is quite powerful!\n"
   ]
  },
  {
   "cell_type": "markdown",
   "metadata": {
    "slideshow": {
     "slide_type": "subslide"
    }
   },
   "source": [
    "## Create a new Git Repository\n",
    "\n",
    "![](figures/lecture01_git-rep-step1.png)"
   ]
  },
  {
   "cell_type": "markdown",
   "metadata": {
    "slideshow": {
     "slide_type": "subslide"
    }
   },
   "source": [
    "## Create a new Git Repository\n",
    "\n",
    "![](figures/lecture01_git-rep-step2.png)"
   ]
  },
  {
   "cell_type": "markdown",
   "metadata": {
    "slideshow": {
     "slide_type": "subslide"
    }
   },
   "source": [
    "## Create a new Git Repository\n",
    "\n",
    "![](figures/lecture01_git-rep-step3.png)"
   ]
  },
  {
   "cell_type": "markdown",
   "metadata": {
    "slideshow": {
     "slide_type": "subslide"
    }
   },
   "source": [
    "## Create a new Git Repository\n",
    "\n",
    "![](figures/lecture01_git-rep-step4.png)"
   ]
  },
  {
   "cell_type": "markdown",
   "metadata": {
    "slideshow": {
     "slide_type": "subslide"
    }
   },
   "source": [
    "## Create a new Git Repository\n",
    "\n",
    "![](figures/lecture01_git-rep-step5.png)"
   ]
  },
  {
   "cell_type": "markdown",
   "metadata": {
    "slideshow": {
     "slide_type": "subslide"
    }
   },
   "source": [
    "## Create a new Git Repository\n",
    "\n",
    "![](figures/lecture01_git-rep-step6.png)"
   ]
  },
  {
   "cell_type": "markdown",
   "metadata": {
    "slideshow": {
     "slide_type": "subslide"
    }
   },
   "source": [
    "## Link the local repository to the Github remote\n",
    "\n",
    "```bash\n",
    "git remote add origin https://github.com/edunford/example-rep1.git\n",
    "```\n",
    "\n",
    "Now \"push\" the changes to the remote repository. \n",
    "\n",
    "```bash\n",
    "git push -u origin master\n",
    "```\n",
    "\n",
    "List the remotes associated with this repository\n",
    "\n",
    "```bash\n",
    "git remote\n",
    "```\n",
    "```\n",
    "origin\n",
    "```"
   ]
  },
  {
   "cell_type": "markdown",
   "metadata": {
    "slideshow": {
     "slide_type": "subslide"
    }
   },
   "source": [
    "## Check for updated information\n",
    "\n",
    "**fetch** to pull down data (put not merge it with your existing version). You have to merge it manually.\n",
    "```bash\n",
    "git fetch\n",
    "```\n",
    "**pull** to automatically fetch and then merge.\n",
    "```bash\n",
    "git pull\n",
    "```"
   ]
  },
  {
   "cell_type": "markdown",
   "metadata": {
    "slideshow": {
     "slide_type": "subslide"
    }
   },
   "source": [
    "## Cloning \n",
    "\n",
    "We can now download the repository easily on any local computer by **cloning** \n",
    "```bash\n",
    "git clone https://github.com/edunford/example-rep1.git\n",
    "```\n"
   ]
  },
  {
   "cell_type": "markdown",
   "metadata": {
    "slideshow": {
     "slide_type": "slide"
    }
   },
   "source": [
    "### Next Time\n",
    "\n",
    "- Delve deeper into managing work flow with Git.\n",
    "- Perform more advanced operations with the command line.\n",
    "- Begin delving into python\n",
    "\n",
    "<br><br>\n",
    "**References**\n",
    "\n",
    "Images and wording for some slides were pulled from: Scott and Ben Straub. (2014). ‘Pro Git’. Ed. 2: https://git- scm.com/book/en/v2"
   ]
  }
 ],
 "metadata": {
  "celltoolbar": "Slideshow",
  "kernelspec": {
   "display_name": "Python 3",
   "language": "python",
   "name": "python3"
  },
  "language_info": {
   "codemirror_mode": {
    "name": "ipython",
    "version": 3
   },
   "file_extension": ".py",
   "mimetype": "text/x-python",
   "name": "python",
   "nbconvert_exporter": "python",
   "pygments_lexer": "ipython3",
   "version": "3.7.2"
  },
  "toc": {
   "base_numbering": 1,
   "nav_menu": {},
   "number_sections": true,
   "sideBar": true,
   "skip_h1_title": false,
   "title_cell": "Table of Contents",
   "title_sidebar": "Contents",
   "toc_cell": false,
   "toc_position": {},
   "toc_section_display": true,
   "toc_window_display": false
  }
 },
 "nbformat": 4,
 "nbformat_minor": 2
}
